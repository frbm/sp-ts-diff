{
 "cells": [
  {
   "cell_type": "code",
   "execution_count": 1,
   "id": "32012c03",
   "metadata": {},
   "outputs": [],
   "source": [
    "import torch\n",
    "from time import time"
   ]
  },
  {
   "cell_type": "markdown",
   "id": "dada93bd",
   "metadata": {},
   "source": [
    "## Anderson-Darling"
   ]
  },
  {
   "cell_type": "code",
   "execution_count": 17,
   "id": "0e45b770",
   "metadata": {},
   "outputs": [],
   "source": [
    "def anderson_darling(X_obs, X_gen):\n",
    "    n_test, n_sta = X_gen.size()\n",
    "    \n",
    "    X_gen = X_gen.sort(axis=0).values\n",
    "    u = torch.zeros_like(X_gen)\n",
    "    \n",
    "    for i in range(n_test):\n",
    "        for s in range(n_sta):\n",
    "            u[i, s] = torch.sum(X_obs[:, s] <= X_gen[i, s]) + 1\n",
    "    u /= n_test + 2\n",
    "    \n",
    "    W = torch.zeros(n_sta)\n",
    "    for s in range(n_sta):\n",
    "        W[s] = sum([(2*i-1)*(torch.log(u[i, s]) + torch.log(1-u[-(i+1), s])) for i in range(n_test)])\n",
    "        W[s] /= -n_test\n",
    "        W[s] -= n_test\n",
    "    \n",
    "    return torch.mean(W)"
   ]
  },
  {
   "cell_type": "markdown",
   "id": "beadbee6",
   "metadata": {},
   "source": [
    "## Absolute Kendall"
   ]
  },
  {
   "cell_type": "code",
   "execution_count": 18,
   "id": "537968b4",
   "metadata": {},
   "outputs": [],
   "source": [
    "def Ri(X, i):\n",
    "    n_test = X.size(0)\n",
    "    X_ref = X[i, :].repeat((n_test, 1))  # copy the i-th observation and repeat n_test times\n",
    "    return torch.sum(torch.prod(X - X_ref < 0, axis=1))/(n_test-1)  # prod of bool"
   ]
  },
  {
   "cell_type": "code",
   "execution_count": 19,
   "id": "3bbe91dd",
   "metadata": {},
   "outputs": [],
   "source": [
    "def kendall(X_obs, X_gen):\n",
    "    n_test = X_obs.size(0)\n",
    "    R = torch.tensor([Ri(X_obs, i) for i in range(n_test)]).sort().values  # sort to get the order statistics\n",
    "    R_tilde = torch.tensor([Ri(X_gen, i) for i in range(n_test)]).sort().values\n",
    "    return torch.mean(torch.abs(R - R_tilde))"
   ]
  },
  {
   "cell_type": "markdown",
   "id": "b40bafe6",
   "metadata": {},
   "source": [
    "## Test"
   ]
  },
  {
   "cell_type": "code",
   "execution_count": 22,
   "id": "88ad224b",
   "metadata": {},
   "outputs": [],
   "source": [
    "obs = torch.randn((1000, 6))\n",
    "gen = torch.randn_like(obs)"
   ]
  },
  {
   "cell_type": "code",
   "execution_count": 23,
   "id": "d020aaa5",
   "metadata": {},
   "outputs": [
    {
     "data": {
      "text/plain": [
       "tensor(-2.3403)"
      ]
     },
     "execution_count": 23,
     "metadata": {},
     "output_type": "execute_result"
    }
   ],
   "source": [
    "anderson_darling(obs, gen)"
   ]
  },
  {
   "cell_type": "code",
   "execution_count": 24,
   "id": "419bacf1",
   "metadata": {},
   "outputs": [
    {
     "data": {
      "text/plain": [
       "tensor(0.0017)"
      ]
     },
     "execution_count": 24,
     "metadata": {},
     "output_type": "execute_result"
    }
   ],
   "source": [
    "kendall(obs, gen)"
   ]
  },
  {
   "cell_type": "code",
   "execution_count": 25,
   "id": "1549c1e1",
   "metadata": {},
   "outputs": [],
   "source": [
    "obs = torch.randn((10000, 6))\n",
    "gen = torch.randn((10000, 6))"
   ]
  },
  {
   "cell_type": "code",
   "execution_count": 26,
   "id": "f767d263",
   "metadata": {},
   "outputs": [],
   "source": [
    "t0 = time()\n",
    "anderson_darling(obs, gen)\n",
    "t1 = time()\n",
    "kendall(obs, gen)\n",
    "t2 = time()"
   ]
  },
  {
   "cell_type": "code",
   "execution_count": 27,
   "id": "3abea8d3",
   "metadata": {},
   "outputs": [
    {
     "name": "stdout",
     "output_type": "stream",
     "text": [
      "4.3854992389678955\n",
      "4.662496328353882\n"
     ]
    }
   ],
   "source": [
    "print(t2-t1)\n",
    "print(t1-t0)"
   ]
  },
  {
   "cell_type": "code",
   "execution_count": null,
   "id": "9500df5a",
   "metadata": {},
   "outputs": [],
   "source": []
  }
 ],
 "metadata": {
  "kernelspec": {
   "display_name": "Python 3 (ipykernel)",
   "language": "python",
   "name": "python3"
  },
  "language_info": {
   "codemirror_mode": {
    "name": "ipython",
    "version": 3
   },
   "file_extension": ".py",
   "mimetype": "text/x-python",
   "name": "python",
   "nbconvert_exporter": "python",
   "pygments_lexer": "ipython3",
   "version": "3.9.12"
  }
 },
 "nbformat": 4,
 "nbformat_minor": 5
}
